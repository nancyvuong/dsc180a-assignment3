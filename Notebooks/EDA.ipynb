{
 "cells": [
  {
   "cell_type": "code",
   "execution_count": 1,
   "metadata": {},
   "outputs": [],
   "source": [
    "import networkx as nx\n",
    "import HW1\n",
    "import re\n",
    "from pathlib import Path\n",
    "import pandas as pd\n",
    "import os\n",
    "import numpy as np"
   ]
  },
  {
   "cell_type": "code",
   "execution_count": null,
   "metadata": {},
   "outputs": [],
   "source": [
    "#EDA number of classes/app, most common library used, graph-degree related statistics\n",
    "#basically do all those but compare between categories"
   ]
  },
  {
   "cell_type": "code",
   "execution_count": null,
   "metadata": {},
   "outputs": [],
   "source": [
    "HW1.main()"
   ]
  },
  {
   "cell_type": "code",
   "execution_count": 2,
   "metadata": {},
   "outputs": [],
   "source": [
    "def getAllSmaliFiles(dirName):\n",
    "    # create a list of file and sub directories \n",
    "    # names in the given directory \n",
    "    listOfFile = os.listdir(dirName)\n",
    "    allFiles = list()\n",
    "    # Iterate over all the entries    \n",
    "    for entry in listOfFile:\n",
    "        # Create full path\n",
    "        fullPath = os.path.join(dirName, entry)\n",
    "        # If entry is a directory then get the list of files in this directory \n",
    "        if os.path.isdir(fullPath):\n",
    "            allFiles = allFiles + getAllSmaliFiles(fullPath)\n",
    "        else:\n",
    "            allFiles.append(fullPath)\n",
    "    allFiles = [i for i in allFiles if i.split(\".\")[-1] == \"smali\"] \n",
    "    return allFiles "
   ]
  },
  {
   "cell_type": "code",
   "execution_count": 3,
   "metadata": {},
   "outputs": [],
   "source": [
    "smalis = getAllSmaliFiles(\"Apps\")"
   ]
  },
  {
   "cell_type": "code",
   "execution_count": 5,
   "metadata": {},
   "outputs": [
    {
     "data": {
      "text/plain": [
       "2153825"
      ]
     },
     "execution_count": 5,
     "metadata": {},
     "output_type": "execute_result"
    }
   ],
   "source": [
    "#total number of smali files for 423 apps\n",
    "len(smalis)"
   ]
  },
  {
   "cell_type": "code",
   "execution_count": 4,
   "metadata": {},
   "outputs": [
    {
     "data": {
      "text/plain": [
       "47075524"
      ]
     },
     "execution_count": 4,
     "metadata": {},
     "output_type": "execute_result"
    }
   ],
   "source": [
    "#key = app name, value = dictionary: key: api_call : name of api : # of occurance/ lib_call: name of lib: # of occurance\n",
    "app_features = {}\n",
    "#key = genre, value = list of apps that belong in that genre\n",
    "genre_apps = {}\n",
    "total_api_calls = 0\n",
    "for i in smalis:\n",
    "    temp = i.split(\"/\")\n",
    "    #temp[2]/curr is the app name\n",
    "    curr = temp[2]\n",
    "    #temp[1] is the genre\n",
    "    if temp[1] not in genre_apps:\n",
    "        genre_apps[temp[1]] = []\n",
    "    if curr not in app_features:\n",
    "        app_features[curr] = {'api_calls': {}, 'lib_calls': {}}\n",
    "    txt = Path(i).read_text(errors = 'ignore')\n",
    "    lib_calls = re.findall(r'L.+->', txt) \n",
    "    api_calls = re.findall(r'L.+->.+\\(', txt)\n",
    "    total_api_calls += len(api_calls)\n",
    "    #iterate through api calls\n",
    "    for j in api_calls:\n",
    "        if j not in app_features[curr]['api_calls']:\n",
    "            app_features[curr]['api_calls'][j] = 0\n",
    "        app_features[curr]['api_calls'][j]+=1\n",
    "    #iterate through library calls\n",
    "    for k in lib_calls:\n",
    "        if k not in app_features[curr]['lib_calls']:\n",
    "            app_features[curr]['lib_calls'][k] = 0\n",
    "        app_features[curr]['lib_calls'][k]+=1\n",
    "    if curr not in genre_apps[temp[1]]:\n",
    "        genre_apps[temp[1]].append(curr)\n",
    "total_api_calls #with duplicates"
   ]
  },
  {
   "cell_type": "code",
   "execution_count": 7,
   "metadata": {},
   "outputs": [
    {
     "data": {
      "text/plain": [
       "211"
      ]
     },
     "execution_count": 7,
     "metadata": {},
     "output_type": "execute_result"
    }
   ],
   "source": [
    "len(genre_apps['productivity'])"
   ]
  },
  {
   "cell_type": "code",
   "execution_count": 7,
   "metadata": {},
   "outputs": [],
   "source": [
    "most_common = {}\n",
    "for genre in genre_apps:\n",
    "    most_common[genre] = {'api': [\"\", 0], 'lib': [\"\", 0]}\n",
    "    for app in genre_apps[genre]:\n",
    "        api_count = list(app_features[app][\"api_calls\"].items())\n",
    "        #print(app)\n",
    "        lib_count = list(app_features[app][\"lib_calls\"].items())\n",
    "        \n",
    "        mode_api = max(api_count, key=lambda x:x[1])\n",
    "        mode_lib = max(lib_count, key=lambda x:x[1])\n",
    "        \n",
    "        curr_mode_api = most_common[genre][\"api\"]\n",
    "        if mode_api[0] == curr_mode_api[0]:\n",
    "            curr_mode_api[1] += mode_api[1]\n",
    "        else:\n",
    "            if mode_api[1] > curr_mode_api[1]:\n",
    "                curr_mode_api[0] = mode_api[0]\n",
    "                curr_mode_api[1] = mode_api[1]\n",
    "                \n",
    "        curr_mode_lib = most_common[genre][\"lib\"]\n",
    "        if mode_lib[0] == curr_mode_lib[0]:\n",
    "            curr_mode_lib[1] += mode_lib[1]\n",
    "        else:\n",
    "            if mode_lib[1] > curr_mode_lib[1]:\n",
    "                curr_mode_lib[0] = mode_lib[0]\n",
    "                curr_mode_lib[1] = mode_lib[1]\n",
    "#most_common"
   ]
  },
  {
   "cell_type": "code",
   "execution_count": 8,
   "metadata": {},
   "outputs": [
    {
     "data": {
      "text/plain": [
       "['Ljava/lang/StringBuilder;->append(', 1008310]"
      ]
     },
     "execution_count": 8,
     "metadata": {},
     "output_type": "execute_result"
    }
   ],
   "source": [
    "most_common['entertainment'][\"api\"]"
   ]
  },
  {
   "cell_type": "code",
   "execution_count": 9,
   "metadata": {},
   "outputs": [
    {
     "data": {
      "text/plain": [
       "['Lcom/google/android/gms/internal/zzai;->', 1165710]"
      ]
     },
     "execution_count": 9,
     "metadata": {},
     "output_type": "execute_result"
    }
   ],
   "source": [
    "most_common['entertainment'][\"lib\"]"
   ]
  },
  {
   "cell_type": "code",
   "execution_count": 10,
   "metadata": {},
   "outputs": [
    {
     "name": "stdout",
     "output_type": "stream",
     "text": [
      "['Ljava/lang/StringBuilder;->append(', 1095257]\n"
     ]
    },
    {
     "data": {
      "text/plain": [
       "['Ljava/lang/StringBuilder;->', 1211707]"
      ]
     },
     "execution_count": 10,
     "metadata": {},
     "output_type": "execute_result"
    }
   ],
   "source": [
    "print(most_common['productivity'][\"api\"])\n",
    "most_common['productivity'][\"lib\"]"
   ]
  },
  {
   "cell_type": "code",
   "execution_count": 11,
   "metadata": {},
   "outputs": [],
   "source": [
    "import numpy as np"
   ]
  },
  {
   "cell_type": "code",
   "execution_count": 12,
   "metadata": {},
   "outputs": [
    {
     "name": "stdout",
     "output_type": "stream",
     "text": [
      "423\n",
      "423\n",
      "10\n",
      "59\n"
     ]
    }
   ],
   "source": [
    "#encode the apis\n",
    "common_api = [] #could've done this in the app-features section\n",
    "common_lib = [] #ok this actually takes a while definitely do this in the app_features section\n",
    "x = []\n",
    "labels = []\n",
    "for genre in genre_apps:\n",
    "    \n",
    "    for i in genre_apps[genre]:\n",
    "        labels.append(genre)\n",
    "        api_count = list(app_features[i][\"api_calls\"].items())\n",
    "        lib_count = list(app_features[i][\"lib_calls\"].items())\n",
    "        \n",
    "        mode_api = max(api_count, key=lambda x:x[1])[0]\n",
    "        mode_lib = max(lib_count, key=lambda x:x[1])[0]\n",
    "    \n",
    "        if mode_api not in common_api:\n",
    "            common_api.append(mode_api)\n",
    "        if mode_lib not in common_lib:\n",
    "            common_lib.append(mode_lib)\n",
    "        api_index = common_api.index(mode_api)\n",
    "        lib_index = common_lib.index(mode_lib)\n",
    "        degree = len(np.unique(app_features[i][\"api_calls\"]))\n",
    "        x.append([api_index, lib_index, degree])\n",
    "\n",
    "print(len(x))\n",
    "print(len(labels))\n",
    "print(len(common_api))\n",
    "print(len(common_lib))"
   ]
  },
  {
   "cell_type": "code",
   "execution_count": 13,
   "metadata": {},
   "outputs": [
    {
     "data": {
      "text/plain": [
       "['entertainment',\n",
       " 'entertainment',\n",
       " 'entertainment',\n",
       " 'entertainment',\n",
       " 'entertainment',\n",
       " 'entertainment',\n",
       " 'entertainment',\n",
       " 'entertainment',\n",
       " 'entertainment',\n",
       " 'entertainment',\n",
       " 'entertainment',\n",
       " 'entertainment',\n",
       " 'entertainment',\n",
       " 'entertainment',\n",
       " 'entertainment',\n",
       " 'productivity',\n",
       " 'productivity',\n",
       " 'productivity',\n",
       " 'productivity',\n",
       " 'productivity',\n",
       " 'productivity',\n",
       " 'productivity',\n",
       " 'productivity',\n",
       " 'productivity',\n",
       " 'productivity',\n",
       " 'productivity',\n",
       " 'productivity',\n",
       " 'productivity',\n",
       " 'productivity',\n",
       " 'productivity']"
      ]
     },
     "execution_count": 13,
     "metadata": {},
     "output_type": "execute_result"
    }
   ],
   "source": [
    "labels_test = labels[:15] + labels[-15:]\n",
    "labels_test"
   ]
  },
  {
   "cell_type": "code",
   "execution_count": 14,
   "metadata": {},
   "outputs": [
    {
     "data": {
      "text/plain": [
       "30"
      ]
     },
     "execution_count": 14,
     "metadata": {},
     "output_type": "execute_result"
    }
   ],
   "source": [
    "x_test = x[:15] + x[-15:]\n",
    "len(x_test)"
   ]
  },
  {
   "cell_type": "code",
   "execution_count": 15,
   "metadata": {},
   "outputs": [
    {
     "name": "stdout",
     "output_type": "stream",
     "text": [
      "393\n",
      "393\n"
     ]
    }
   ],
   "source": [
    "x_train = x[15:-15]\n",
    "print(len(x_train))\n",
    "labels_train = labels[15:-15]\n",
    "print(len(labels_train))"
   ]
  },
  {
   "cell_type": "code",
   "execution_count": 16,
   "metadata": {},
   "outputs": [],
   "source": [
    "from sklearn.tree import DecisionTreeClassifier\n",
    "from sklearn.ensemble import RandomForestClassifier\n",
    "from sklearn import metrics\n",
    "from sklearn.ensemble import GradientBoostingClassifier"
   ]
  },
  {
   "cell_type": "code",
   "execution_count": 17,
   "metadata": {},
   "outputs": [
    {
     "name": "stdout",
     "output_type": "stream",
     "text": [
      "Train Accuracy:  0.7938931297709924\n",
      "Accuracy:  0.6666666666666666\n"
     ]
    }
   ],
   "source": [
    "dtc = DecisionTreeClassifier()\n",
    "dtc.fit(x_train, labels_train)\n",
    "dtc_preds = dtc.predict(x_train)\n",
    "print(\"Train Accuracy: \", metrics.accuracy_score(labels_train, dtc_preds))\n",
    "dtc_preds = dtc.predict(x_test)\n",
    "print(\"Accuracy: \", metrics.accuracy_score(labels_test, dtc_preds))"
   ]
  },
  {
   "cell_type": "code",
   "execution_count": 18,
   "metadata": {},
   "outputs": [
    {
     "name": "stdout",
     "output_type": "stream",
     "text": [
      "TrainAccuracy:  0.7913486005089059\n",
      "Accuracy:  0.6666666666666666\n"
     ]
    },
    {
     "name": "stderr",
     "output_type": "stream",
     "text": [
      "/opt/conda/lib/python3.7/site-packages/sklearn/ensemble/forest.py:245: FutureWarning: The default value of n_estimators will change from 10 in version 0.20 to 100 in 0.22.\n",
      "  \"10 in version 0.20 to 100 in 0.22.\", FutureWarning)\n"
     ]
    }
   ],
   "source": [
    "rfc = RandomForestClassifier()\n",
    "rfc.fit(x_train, labels_train)\n",
    "\n",
    "rfc_preds = rfc.predict(x_train)\n",
    "print(\"TrainAccuracy: \", metrics.accuracy_score(labels_train, rfc_preds))\n",
    "\n",
    "rfc_preds = rfc.predict(x_test)\n",
    "print(\"Accuracy: \", metrics.accuracy_score(labels_test, rfc_preds))"
   ]
  },
  {
   "cell_type": "code",
   "execution_count": 19,
   "metadata": {},
   "outputs": [
    {
     "name": "stdout",
     "output_type": "stream",
     "text": [
      "TrainAccuracy 0.7938931297709924\n",
      "Accuracy 0.6666666666666666\n"
     ]
    }
   ],
   "source": [
    "gbc = GradientBoostingClassifier()\n",
    "gbc.fit(x_train, labels_train)\n",
    "gbc_preds = gbc.predict(x_train)\n",
    "print(\"TrainAccuracy\", metrics.accuracy_score(labels_train, gbc_preds))\n",
    "\n",
    "gbc_preds = gbc.predict(x_test)\n",
    "print(\"Accuracy\", metrics.accuracy_score(labels_test, gbc_preds))"
   ]
  }
 ],
 "metadata": {
  "kernelspec": {
   "display_name": "Python 3",
   "language": "python",
   "name": "python3"
  },
  "language_info": {
   "codemirror_mode": {
    "name": "ipython",
    "version": 3
   },
   "file_extension": ".py",
   "mimetype": "text/x-python",
   "name": "python",
   "nbconvert_exporter": "python",
   "pygments_lexer": "ipython3",
   "version": "3.7.3"
  }
 },
 "nbformat": 4,
 "nbformat_minor": 2
}
